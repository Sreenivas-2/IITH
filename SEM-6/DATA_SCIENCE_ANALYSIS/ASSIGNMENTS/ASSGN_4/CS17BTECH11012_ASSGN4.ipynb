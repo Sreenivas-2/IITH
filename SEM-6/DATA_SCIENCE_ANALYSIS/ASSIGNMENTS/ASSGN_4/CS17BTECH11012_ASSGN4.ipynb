{
 "cells": [
  {
   "cell_type": "markdown",
   "metadata": {},
   "source": [
    "## Problem 1"
   ]
  },
  {
   "cell_type": "code",
   "execution_count": 1,
   "metadata": {},
   "outputs": [],
   "source": [
    "import numpy as np\n",
    "import pandas as pd\n",
    "import matplotlib.pyplot as plt\n",
    "from scipy import stats, optimize\n",
    "\n",
    "data = pd.read_csv('data.csv') # Reading the data from local computer\n",
    "X = data['x']\n",
    "Y = data['y']\n",
    "sigmaY = data['sigma_y']"
   ]
  },
  {
   "cell_type": "code",
   "execution_count": 2,
   "metadata": {},
   "outputs": [
    {
     "name": "stdout",
     "output_type": "stream",
     "text": [
      "best-fit values :\n",
      "linear model:    theta =  [-1.11028083  2.79789862]\n",
      "quadratic model: theta =  [-1.05578916  2.38475188  0.50261295]\n",
      "cubic model:     theta =  [-1.02910476  1.97184133  1.74451272 -0.96725024]\n"
     ]
    }
   ],
   "source": [
    "def polynomial_fit(x, theta):\n",
    "    return sum((x ** n)* t for (n, t) in enumerate(theta))\n",
    "\n",
    "def logL(theta, model = polynomial_fit):\n",
    "    y_fit = model(X, theta)\n",
    "    return sum(stats.norm.logpdf(*args) for args in zip(Y, y_fit, sigmaY))\n",
    "\n",
    "def best_theta(degree, model = polynomial_fit):\n",
    "    theta_0 = (degree + 1) * [0]\n",
    "    neg_logL = lambda theta: -logL(theta, model)\n",
    "    return optimize.fmin_bfgs(neg_logL, theta_0, disp = False)\n",
    "\n",
    "thetas = []\n",
    "thetas.append(best_theta(1))\n",
    "thetas.append(best_theta(2))\n",
    "thetas.append(best_theta(3))\n",
    "\n",
    "print('best-fit values :')\n",
    "print(\"linear model:    theta = \", thetas[0])\n",
    "print(\"quadratic model: theta = \", thetas[1])\n",
    "print(\"cubic model:     theta = \", thetas[2])"
   ]
  },
  {
   "cell_type": "code",
   "execution_count": 3,
   "metadata": {},
   "outputs": [
    {
     "data": {
      "image/png": "[encoded data removed]",
      "text/plain": [
       "<Figure size 432x288 with 1 Axes>"
      ]
     },
     "metadata": {
      "needs_background": "light"
     },
     "output_type": "display_data"
    }
   ],
   "source": [
    "xfit = np.linspace(0, 1, 1000)\n",
    "fig, ax = plt.subplots()\n",
    "ax.errorbar(X, Y, sigmaY, fmt = 'ok', ecolor = 'gray')\n",
    "ax.plot(xfit, polynomial_fit(xfit, thetas[0]), label = 'best linear model')\n",
    "ax.plot(xfit, polynomial_fit(xfit, thetas[1]), label = 'best quadratic model')\n",
    "ax.plot(xfit, polynomial_fit(xfit, thetas[2]), label = 'best cubic model')\n",
    "ax.legend(loc = 'best', fontsize = 14)\n",
    "ax.set(xlabel = 'x', ylabel = 'y', title = 'data');"
   ]
  },
  {
   "cell_type": "code",
   "execution_count": 4,
   "metadata": {},
   "outputs": [
    {
     "name": "stdout",
     "output_type": "stream",
     "text": [
      "logL Values :\n",
      "linear model:    logL =  22.01834340803627\n",
      "quadratic model: logL =  22.92491031200275\n",
      "cubic model: logL =  23.1304092587971\n",
      "\n",
      "Naive approach (logL values): does not necessarily mean cubic is the best model.\n"
     ]
    }
   ],
   "source": [
    "print('logL Values :')\n",
    "print(\"linear model:    logL = \", logL(thetas[0]))\n",
    "print(\"quadratic model: logL = \", logL(thetas[1]))\n",
    "print(\"cubic model: logL = \", logL(thetas[2]))\n",
    "\n",
    "print('\\nNaive approach (logL values): does not necessarily mean cubic is the best model.')"
   ]
  },
  {
   "cell_type": "code",
   "execution_count": 5,
   "metadata": {},
   "outputs": [],
   "source": [
    "def compute_chi2(degree):\n",
    "    theta = best_theta(degree)\n",
    "    resid = (Y - polynomial_fit(X, theta)) / sigmaY\n",
    "    return np.sum(resid ** 2)\n",
    "\n",
    "def compute_dof(degree):\n",
    "    return data.shape[0] - (degree + 1)\n",
    "\n",
    "def chi2_likelihood(degree):\n",
    "    chi2 = compute_chi2(degree)\n",
    "    dof = compute_dof(degree)\n",
    "    return stats.chi2(dof).pdf(chi2)"
   ]
  },
  {
   "cell_type": "code",
   "execution_count": 6,
   "metadata": {},
   "outputs": [
    {
     "name": "stdout",
     "output_type": "stream",
     "text": [
      "chi2 likelihood :\n",
      "linear model:    chi2 =  0.045383795585920046\n",
      "quadratic model: chi2 =  0.0366084475501416\n",
      "cubic model:     chi2 =  0.04215280601015518\n",
      "\n",
      "Frequentist Model : linear model is the best choice of all the models.\n"
     ]
    }
   ],
   "source": [
    "print('chi2 likelihood :')\n",
    "print(\"linear model:    chi2 = \", chi2_likelihood(1))\n",
    "print(\"quadratic model: chi2 = \", chi2_likelihood(2))\n",
    "print(\"cubic model:     chi2 = \", chi2_likelihood(3))\n",
    "\n",
    "print('\\nFrequentist Model : linear model is the best choice of all the models.')"
   ]
  },
  {
   "cell_type": "code",
   "execution_count": 7,
   "metadata": {},
   "outputs": [
    {
     "name": "stdout",
     "output_type": "stream",
     "text": [
      "p_values :\n",
      "quadratic model: chi2 =  0.17813275695316477\n",
      "cubic model:     chi2 =  0.328878844196578\n",
      "\n",
      "Both the p_values are greater than 0.05 so the null hypothesis is true\n",
      "\n"
     ]
    }
   ],
   "source": [
    "# using the linear model as the null hypothesis\n",
    "def p_value(degree):\n",
    "    return 1-stats.chi2(degree-1).cdf(compute_chi2(1) - compute_chi2(degree))\n",
    "\n",
    "print('p_values :')\n",
    "print(\"quadratic model: chi2 = \", p_value(2))\n",
    "print(\"cubic model:     chi2 = \", p_value(3))\n",
    "\n",
    "print('\\nBoth the p_values are greater than 0.05 so the null hypothesis is true\\n')"
   ]
  },
  {
   "cell_type": "code",
   "execution_count": 8,
   "metadata": {},
   "outputs": [
    {
     "name": "stdout",
     "output_type": "stream",
     "text": [
      "Using the AICc as N/K is less than 40.\n",
      "\n",
      "AICc values :\n",
      "linear model:    AICc1 =  -39.330804463131365\n",
      "quadratic model: AICc2 =  -38.3498206240055\n",
      "cubic model:     AICc3 =  -35.59415185092754\n",
      "\n",
      "AIC : Linear model is the best with the minimum AIC value.\n"
     ]
    }
   ],
   "source": [
    "print('Using the AICc as N/K is less than 40.\\n')\n",
    "\n",
    "def AICc(degree):\n",
    "    return -2*logL(thetas[degree-1]) + (2*(degree+1)) + ((2*(degree+2)*(degree+1))/(20-degree-2))\n",
    "\n",
    "\n",
    "# calculating AICc Values\n",
    "AICc1 = AICc(1)\n",
    "AICc2 = AICc(2)\n",
    "AICc3 = AICc(3)\n",
    "\n",
    "print('AICc values :')\n",
    "print(\"linear model:    AICc1 = \", AICc(1))\n",
    "print(\"quadratic model: AICc2 = \", AICc(2))\n",
    "print(\"cubic model:     AICc3 = \", AICc(3))\n",
    "\n",
    "print('\\nAIC : Linear model is the best with the minimum AIC value.')"
   ]
  },
  {
   "cell_type": "code",
   "execution_count": 9,
   "metadata": {},
   "outputs": [
    {
     "name": "stdout",
     "output_type": "stream",
     "text": [
      "BIC values :\n",
      "linear model:    BIC1 =  -38.04522226896456\n",
      "quadratic model: BIC2 =  -36.86262380334353\n",
      "cubic model:     BIC3 =  -34.27788942337824\n",
      "\n",
      "BIC : Linear model is the best with the minimum BIC value.\n"
     ]
    }
   ],
   "source": [
    "def BIC(degree):\n",
    "    return -2*logL(thetas[degree-1]) + np.log(20)*(degree+1)\n",
    "\n",
    "# calculating BIC Values\n",
    "BIC1 = BIC(1)\n",
    "BIC2 = BIC(2)\n",
    "BIC3 = BIC(3)\n",
    "print('BIC values :')\n",
    "print(\"linear model:    BIC1 = \", BIC(1))\n",
    "print(\"quadratic model: BIC2 = \", BIC(2))\n",
    "print(\"cubic model:     BIC3 = \", BIC(3))\n",
    "\n",
    "print('\\nBIC : Linear model is the best with the minimum BIC value.')"
   ]
  },
  {
   "cell_type": "code",
   "execution_count": 10,
   "metadata": {
    "scrolled": true
   },
   "outputs": [
    {
     "name": "stdout",
     "output_type": "stream",
     "text": [
      "Delta AIC values :\n",
      "linear model:    delta_AIC1 =  0.0\n",
      "quadratic model: delta_AIC2 =  0.9809838391258623\n",
      "cubic model:     delta_AIC3 =  3.7366526122038266\n",
      "\n",
      "delta_AIC for quadratic model is in range 0 - 2 : Substantial Level of Empirical Support.\n",
      "delta_AIC for cubic model is in range close to 4     : Considerably Less.\n"
     ]
    }
   ],
   "source": [
    "# calculating delta AIC values\n",
    "AIC_min = min(AICc1, AICc2, AICc3)\n",
    "print('Delta AIC values :')\n",
    "print('linear model:    delta_AIC1 = ', AICc1-AIC_min)\n",
    "print('quadratic model: delta_AIC2 = ', AICc2-AIC_min)\n",
    "print('cubic model:     delta_AIC3 = ', AICc3-AIC_min)\n",
    "\n",
    "print('\\ndelta_AIC for quadratic model is in range 0 - 2 : Substantial Level of Empirical Support.')\n",
    "print('delta_AIC for cubic model is in range close to 4     : Considerably Less.')\n",
    "    "
   ]
  },
  {
   "cell_type": "code",
   "execution_count": 11,
   "metadata": {},
   "outputs": [
    {
     "name": "stdout",
     "output_type": "stream",
     "text": [
      "Delta AIC values :\n",
      "linear model:    delta_BIC1 =  0.0\n",
      "quadratic model: delta_BIC2 =  1.1825984656210267\n",
      "cubic model:     delta_BIC3 =  3.767332845586317\n",
      "\n",
      "delta_BIC for quadratic model is in range 0 - 2 : Not worth evidence against the model.\n",
      "delta_BIC for cubic model is in range 2 - 6     : positive evidence against the model.\n"
     ]
    }
   ],
   "source": [
    "# calculating delta BIC values\n",
    "BIC_min = min(BIC1, BIC2, BIC3)\n",
    "print('Delta AIC values :')\n",
    "print('linear model:    delta_BIC1 = ', BIC1-BIC_min)\n",
    "print('quadratic model: delta_BIC2 = ', BIC2-BIC_min)\n",
    "print('cubic model:     delta_BIC3 = ', BIC3-BIC_min)\n",
    "\n",
    "print('\\ndelta_BIC for quadratic model is in range 0 - 2 : Not worth evidence against the model.')\n",
    "print('delta_BIC for cubic model is in range 2 - 6     : positive evidence against the model.')"
   ]
  },
  {
   "cell_type": "code",
   "execution_count": null,
   "metadata": {},
   "outputs": [],
   "source": []
  },
  {
   "cell_type": "markdown",
   "metadata": {},
   "source": [
    "## Problem 2"
   ]
  },
  {
   "cell_type": "markdown",
   "metadata": {},
   "source": [
    "### Reference : https://bit.ly/2Sz2Ddz\n",
    "\n",
    "\n",
    "### Abstract:\n",
    "This paper analyzes the use of histograms of low-level image features ,such as color and luminance ,as descriptors for image-retrieval purposes. A novel definition of histogram capacity curve taking into account the density distribution of histograms in the corresponding spaces is proposed and used to quantify the effectiveness of  image descriptors and histogram dissimilarities in image retrieval applications. The results permit the design of scalable image-retrieval systems which make optimal use of computational and storage resources.\n",
    "\n",
    "### Usage Of Kolmogorov-Smirnov test:\n",
    "Binned densities(histograms) can be compared using statistical tests as well as using vector norms. Here the statiscal measure is used for the histograms.Here the Kolmogorov-Smirnov test is mis-used by making it work for high dimensional data (two or more than two dimensional data)."
   ]
  },
  {
   "cell_type": "code",
   "execution_count": null,
   "metadata": {},
   "outputs": [],
   "source": []
  },
  {
   "cell_type": "markdown",
   "metadata": {},
   "source": [
    "## Problem 3"
   ]
  },
  {
   "cell_type": "code",
   "execution_count": 12,
   "metadata": {},
   "outputs": [
    {
     "name": "stdout",
     "output_type": "stream",
     "text": [
      "Significance :  5.911017938341624 standard deviations\n",
      "Significance :  5.068957749717791\n",
      "Goodness of fit :  0.5394901931099038\n"
     ]
    }
   ],
   "source": [
    "import numpy as np\n",
    "from scipy.stats import norm\n",
    "\n",
    "# p value given in the abstract of the ATLAS discovery paper\n",
    "p_value = 1.7 * pow(10,-9)\n",
    "z = norm.isf(p_value)\n",
    "print(\"Significance : \", z , \"standard deviations\")\n",
    "\n",
    "# p value for the LIGO discovery\n",
    "p_value = 2 * pow(10,-7)\n",
    "z = norm.isf(p_value)\n",
    "print(\"Significance : \", z)\n",
    "\n",
    "'''\n",
    " -> Super-K discovery paper for neutrino oscillations\n",
    " -> dof and χ2 values from the paper\n",
    "'''\n",
    "dof = 67\n",
    "chi2 = 65.2\n",
    "print(\"Goodness of fit : \", 1-stats.chi2(dof).cdf(chi2) )\n"
   ]
  },
  {
   "cell_type": "code",
   "execution_count": null,
   "metadata": {},
   "outputs": [],
   "source": []
  }
 ],
 "metadata": {
  "kernelspec": {
   "display_name": "Python 3",
   "language": "python",
   "name": "python3"
  },
  "language_info": {
   "codemirror_mode": {
    "name": "ipython",
    "version": 3
   },
   "file_extension": ".py",
   "mimetype": "text/x-python",
   "name": "python",
   "nbconvert_exporter": "python",
   "pygments_lexer": "ipython3",
   "version": "3.6.10"
  }
 },
 "nbformat": 4,
 "nbformat_minor": 2
}
