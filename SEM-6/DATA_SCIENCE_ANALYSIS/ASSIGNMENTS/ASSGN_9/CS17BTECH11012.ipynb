{
 "cells": [
  {
   "cell_type": "code",
   "execution_count": 1,
   "metadata": {},
   "outputs": [
    {
     "data": {
      "image/png": "[encoded data removed]",
      "text/plain": [
       "<Figure size 432x288 with 1 Axes>"
      ]
     },
     "metadata": {
      "needs_background": "light"
     },
     "output_type": "display_data"
    },
    {
     "name": "stdout",
     "output_type": "stream",
     "text": [
      "Arithmetic Mean : 884.8578947368422\n",
      "\n",
      "Sample Weighted Mean : 879.9724169668511\n",
      "\n",
      "Median : 881.5\n",
      "\n",
      "Error in Weighted Mean : 0.3920640956256396\n",
      "\n",
      "SigmaG : 7.338880981602713\n",
      "\n",
      "Error in Medain : 2.347466551990298\n",
      "\n",
      "p_value : 0.0004993404145352542\n"
     ]
    }
   ],
   "source": [
    "import numpy as np\n",
    "import matplotlib.pyplot as plt\n",
    "import pandas as pd\n",
    "from scipy import stats\n",
    "from astroML.stats import sigmaG\n",
    "from operator import add\n",
    "\n",
    "# Reading the data from local computer\n",
    "data = pd.read_csv('data.txt', sep = ' ')\n",
    "lifetime = np.array(data['Lifetime'])\n",
    "statError = np.array(data['StatError'])\n",
    "systError = np.array(data['SystError'])\n",
    "Error = np.sqrt(statError**2 + systError**2)\n",
    "\n",
    "# Histogram plot of the measurements (lifetime)\n",
    "plt.hist(lifetime, bins = 20, density = True, color = 'red', ls = 'solid', label = 'sigmaG(median)')\n",
    "plt.show()\n",
    "\n",
    "# Arithmetic Mean\n",
    "print('Arithmetic Mean :', np.mean(lifetime))\n",
    "\n",
    "# Sample Weighted Mean\n",
    "weight, num, den = (0, 0, 0)\n",
    "for i in range(len(lifetime)):\n",
    "    weight = (1/(Error[i] * Error[i]))\n",
    "    num = num + (weight * lifetime[i])\n",
    "    den = den + weight\n",
    "\n",
    "print('\\nSample Weighted Mean :', num/den)\n",
    "\n",
    "# Sample Median\n",
    "print('\\nMedian :', np.median(lifetime))\n",
    "\n",
    "# Error in Weighted Mean\n",
    "print('\\nError in Weighted Mean :', np.sqrt(1/den))\n",
    "\n",
    "# SigmaG of measurements\n",
    "print('\\nSigmaG :', sigmaG(lifetime))\n",
    "\n",
    "# Error in Median 68% confidence interval (1 sigma error)\n",
    "print('\\nError in Medain :', np.std(lifetime)/np.sqrt(len(lifetime)))\n",
    "\n",
    "# Shapiro-Wilks Test\n",
    "W1, p_value = stats.shapiro(lifetime)\n",
    "print('\\np_value :', p_value)\n",
    "\n"
   ]
  },
  {
   "cell_type": "code",
   "execution_count": null,
   "metadata": {},
   "outputs": [],
   "source": []
  }
 ],
 "metadata": {
  "kernelspec": {
   "display_name": "Python 3",
   "language": "python",
   "name": "python3"
  },
  "language_info": {
   "codemirror_mode": {
    "name": "ipython",
    "version": 3
   },
   "file_extension": ".py",
   "mimetype": "text/x-python",
   "name": "python",
   "nbconvert_exporter": "python",
   "pygments_lexer": "ipython3",
   "version": "3.6.10"
  }
 },
 "nbformat": 4,
 "nbformat_minor": 4
}
