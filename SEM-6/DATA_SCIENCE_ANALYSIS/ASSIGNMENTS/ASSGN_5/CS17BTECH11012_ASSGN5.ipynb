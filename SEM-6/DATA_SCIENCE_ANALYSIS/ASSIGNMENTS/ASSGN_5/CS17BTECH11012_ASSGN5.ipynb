{
 "cells": [
  {
   "cell_type": "markdown",
   "metadata": {},
   "source": [
    "# Problem 1"
   ]
  },
  {
   "cell_type": "code",
   "execution_count": 3,
   "metadata": {},
   "outputs": [
    {
     "name": "stdout",
     "output_type": "stream",
     "text": [
      "p_value for Shapiro-Wilk test of density values : 0.051220282912254333\n",
      "p_value for Shapiro-Wilk test of natural logarithm of density values : 0.5660613775253296\n",
      "\n",
      "As the p-value for the log(density values) is greater it cannot reject the null hypothesis and more close to the gaussian distribution\n"
     ]
    },
    {
     "data": {
      "image/png": "[encoded data removed]",
      "text/plain": [
       "<Figure size 360x360 with 2 Axes>"
      ]
     },
     "metadata": {
      "needs_background": "light"
     },
     "output_type": "display_data"
    }
   ],
   "source": [
    "import numpy as np\n",
    "from scipy import stats\n",
    "import matplotlib.pyplot as plt\n",
    "\n",
    "# reading data from local device\n",
    "file = open('data.txt', 'r')\n",
    "lines = file.readlines()\n",
    "file.close()\n",
    "\n",
    "data = []\n",
    "for line in lines:\n",
    "    line = line.split(' ')[1]\n",
    "    line = line.split('\\n')[0]\n",
    "    data.append(line)\n",
    "\n",
    "data = np.asarray(data, dtype = float)\n",
    "log_data = np.log(data)\n",
    "\n",
    "W1, p_D = stats.shapiro(data) # for density values\n",
    "W2, p_logD = stats.shapiro(log_data) # for natural logarithm of density values\n",
    "\n",
    "print('p_value for Shapiro-Wilk test of density values :', p_D)\n",
    "print('p_value for Shapiro-Wilk test of natural logarithm of density values :', p_logD)\n",
    "\n",
    "print('\\nAs the p-value for the log(density values) is greater it cannot reject the null hypothesis and more close to the gaussian distribution')\n",
    "\n",
    "mu_D, sigma_D = stats.norm.fit(data)\n",
    "mu_logD, sigma_logD = stats.norm.fit(log_data)\n",
    "\n",
    "x = np.linspace(-6, 6, 1000)\n",
    "\n",
    "# Plot the results\n",
    "fig = plt.figure(figsize=(5, 5))\n",
    "fig.subplots_adjust(hspace=0.05)\n",
    "\n",
    "ax = fig.add_subplot(2, 1, 1)\n",
    "\n",
    "ax.hist(data, bins = 'fd', histtype = 'stepfilled', alpha = 1, density = True, label = 'density')\n",
    "ax.plot(x, stats.norm.pdf(x, mu_D, sigma_D), '-k', label = 'gaussian_D')\n",
    "ax.set_xlim(-2, 5.5)\n",
    "ax.set_ylim(0, 0.5)\n",
    "ax.set_xlabel('$x$')\n",
    "ax.set_ylabel('$y$')\n",
    "ax.set_title('density', fontsize = 14)\n",
    "ax.legend(loc = 'upper right')\n",
    "\n",
    "ax = fig.add_subplot(2, 1, 2)\n",
    "ax.hist(log_data, bins = 'fd', histtype = 'stepfilled', alpha = 1, density = True, label = 'log_density')\n",
    "ax.plot(x, stats.norm.pdf(x, mu_logD, sigma_logD), '-k', label = 'gaussian_logD')\n",
    "ax.set_xlim(-2, 3)\n",
    "ax.set_ylim(0, 0.9)\n",
    "ax.legend(loc = 'upper right')\n",
    "ax.set_xlabel('$x$')\n",
    "ax.set_ylabel('$y$')\n",
    "ax.set_title('log of density', fontsize = 14)\n",
    "\n",
    "plt.tight_layout()\n",
    "plt.show()"
   ]
  },
  {
   "cell_type": "code",
   "execution_count": null,
   "metadata": {},
   "outputs": [],
   "source": []
  },
  {
   "cell_type": "markdown",
   "metadata": {},
   "source": [
    "# Problem 2"
   ]
  },
  {
   "cell_type": "code",
   "execution_count": 4,
   "metadata": {},
   "outputs": [
    {
     "name": "stdout",
     "output_type": "stream",
     "text": [
      "variance of hyades stars is : 0.1001435495037807\n",
      "variance of non-hyades stars is : 0.10789036018860101\n",
      "The variance is different for both the hyades and non-hyades samples so we will perform Welch’s t-test\n",
      "\n",
      "t-statistic :  -4.218554822666057\n",
      "p-value of the two-sample t-test is :  5.494164972994738e-05\n",
      "\n",
      "As the p-value is less than 0.05 we can reject the null hypothesis stating the means(color) of the two samples are the same.\n",
      "So the color of hyades and non-hyades are not the same.\n"
     ]
    }
   ],
   "source": [
    "import numpy as np\n",
    "import pandas as pd\n",
    "from scipy import stats\n",
    "\n",
    "# reading the data from local device\n",
    "data = pd.read_csv('data1.csv')\n",
    "\n",
    "# extracting the required data\n",
    "hyades = data[(data['RA'] > 50) & (data['RA'] < 100)]\n",
    "hyades = hyades[(hyades['DE'] > 0) & (hyades['DE'] < 25)]\n",
    "hyades = hyades[(hyades['pmRA'] > 90) & (hyades['pmRA'] < 130)]\n",
    "hyades = hyades[(hyades['pmDE'] > -60) & (hyades['pmDE'] < -10)]\n",
    "hyades = hyades[(hyades['e_Plx'] < 5)]\n",
    "\n",
    "df = pd.concat([data, hyades])\n",
    "non_hyades = df.drop_duplicates(keep = False)\n",
    "\n",
    "hyades = hyades['B-V']\n",
    "non_hyades = non_hyades['B-V']\n",
    "\n",
    "# calculating variances\n",
    "var_hyades = np.var(hyades)\n",
    "var_non_hyades = np.var(non_hyades)\n",
    "\n",
    "print('variance of hyades stars is :', var_hyades)\n",
    "print('variance of non-hyades stars is :', var_non_hyades)\n",
    "print('The variance is different for both the hyades and non-hyades samples so we will perform Welch’s t-test\\n')\n",
    "\n",
    "t_stat, p_val = stats.ttest_ind(hyades, non_hyades, equal_var = False)\n",
    "\n",
    "print(\"t-statistic : \", t_stat)\n",
    "print(\"p-value of the two-sample t-test is : \", p_val)\n",
    "\n",
    "print('\\nAs the p-value is less than 0.05 we can reject the null hypothesis stating the means(color) of the two samples are the same.')\n",
    "print('So the color of hyades and non-hyades are not the same.')"
   ]
  },
  {
   "cell_type": "code",
   "execution_count": null,
   "metadata": {},
   "outputs": [],
   "source": []
  }
 ],
 "metadata": {
  "kernelspec": {
   "display_name": "Python 3",
   "language": "python",
   "name": "python3"
  },
  "language_info": {
   "codemirror_mode": {
    "name": "ipython",
    "version": 3
   },
   "file_extension": ".py",
   "mimetype": "text/x-python",
   "name": "python",
   "nbconvert_exporter": "python",
   "pygments_lexer": "ipython3",
   "version": "3.6.6"
  }
 },
 "nbformat": 4,
 "nbformat_minor": 2
}
