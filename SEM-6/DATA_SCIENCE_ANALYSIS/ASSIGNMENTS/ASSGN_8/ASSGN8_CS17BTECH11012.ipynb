{
 "cells": [
  {
   "cell_type": "code",
   "execution_count": 6,
   "metadata": {},
   "outputs": [
    {
     "data": {
      "image/png": "[encoded data removed]",
      "text/plain": [
       "<Figure size 432x288 with 1 Axes>"
      ]
     },
     "metadata": {
      "needs_background": "light"
     },
     "output_type": "display_data"
    }
   ],
   "source": [
    "import numpy as np\n",
    "import matplotlib.pyplot as plt\n",
    "import pandas as pd\n",
    "from astroML.correlation import bootstrap_two_point_angular\n",
    "\n",
    "# reading the data from local device\n",
    "data = pd.read_csv('data.csv')\n",
    "data = data[(data['r-mag'] > 17) & (data['r-mag'] < 20) & (data['spread_model'] > 0.002)]\n",
    "\n",
    "def correlation(Nbootstraps):\n",
    "    np.random.seed(0)\n",
    "    bins = 10 ** np.linspace(np.log10(1 / 60.), np.log10(6), 16)\n",
    "    \n",
    "    results = [bins]\n",
    "    for D in [data]:\n",
    "        results += bootstrap_two_point_angular(D['#RA'],D['DEC'],bins = bins,method = 'landy-szalay',Nbootstraps = Nbootstraps)\n",
    "\n",
    "    return results\n",
    "\n",
    "(bins, r_corr, r_corr_err, r_bootstraps) = correlation(10)\n",
    "\n",
    "bin_centers = 0.5 * (bins[1:] + bins[:-1])\n",
    "corr = r_corr\n",
    "corr_err = r_corr_err\n",
    "bootstraps = r_bootstraps\n",
    "\n",
    "plt.errorbar(bin_centers, r_corr, r_corr_err, fmt='.k', ecolor='gray', lw = 1)\n",
    "plt.xscale('log')\n",
    "plt.yscale('linear')\n",
    "plt.xlabel(r'$\\theta\\ (deg)$')\n",
    "plt.ylabel(r'$w(\\theta)$')\n",
    "plt.title('Two-point Angular Correlation')\n",
    "plt.show()"
   ]
  },
  {
   "cell_type": "code",
   "execution_count": null,
   "metadata": {},
   "outputs": [],
   "source": []
  }
 ],
 "metadata": {
  "kernelspec": {
   "display_name": "Python 3",
   "language": "python",
   "name": "python3"
  },
  "language_info": {
   "codemirror_mode": {
    "name": "ipython",
    "version": 3
   },
   "file_extension": ".py",
   "mimetype": "text/x-python",
   "name": "python",
   "nbconvert_exporter": "python",
   "pygments_lexer": "ipython3",
   "version": "3.6.10"
  }
 },
 "nbformat": 4,
 "nbformat_minor": 4
}
